{
  "nbformat": 4,
  "nbformat_minor": 0,
  "metadata": {
    "hide_input": false,
    "kernelspec": {
      "display_name": "Python 3",
      "language": "python",
      "name": "python3"
    },
    "language_info": {
      "codemirror_mode": {
        "name": "ipython",
        "version": 3
      },
      "file_extension": ".py",
      "mimetype": "text/x-python",
      "name": "python",
      "nbconvert_exporter": "python",
      "pygments_lexer": "ipython3",
      "version": "3.6.0"
    },
    "toc": {
      "base_numbering": 1,
      "nav_menu": {},
      "number_sections": true,
      "sideBar": true,
      "skip_h1_title": false,
      "title_cell": "Table of Contents",
      "title_sidebar": "Contents",
      "toc_cell": false,
      "toc_position": {},
      "toc_section_display": true,
      "toc_window_display": false
    },
    "colab": {
      "name": "Text Cleaning .ipynb",
      "provenance": [],
      "collapsed_sections": [],
      "machine_shape": "hm"
    }
  },
  "cells": [
    {
      "cell_type": "markdown",
      "metadata": {
        "id": "hIaR6GlU2i53",
        "colab_type": "text"
      },
      "source": [
        "## Import Libraries"
      ]
    },
    {
      "cell_type": "code",
      "metadata": {
        "id": "8NM8RoZf1SBT",
        "colab_type": "code",
        "colab": {}
      },
      "source": [
        "import pandas as pd\n",
        "import nltk\n",
        "import numpy as np\n",
        "from nltk.corpus import stopwords"
      ],
      "execution_count": 0,
      "outputs": []
    },
    {
      "cell_type": "code",
      "metadata": {
        "id": "AWPuncg2Z7Dh",
        "colab_type": "code",
        "outputId": "69d20548-71b8-46d4-874d-d135e1166fd0",
        "colab": {
          "base_uri": "https://localhost:8080/",
          "height": 131
        }
      },
      "source": [
        "from google.colab import drive\n",
        "drive.mount('/content/drive')"
      ],
      "execution_count": 0,
      "outputs": [
        {
          "output_type": "stream",
          "text": [
            "Go to this URL in a browser: https://accounts.google.com/o/oauth2/auth?client_id=947318989803-6bn6qk8qdgf4n4g3pfee6491hc0brc4i.apps.googleusercontent.com&redirect_uri=urn%3aietf%3awg%3aoauth%3a2.0%3aoob&response_type=code&scope=email%20https%3a%2f%2fwww.googleapis.com%2fauth%2fdocs.test%20https%3a%2f%2fwww.googleapis.com%2fauth%2fdrive%20https%3a%2f%2fwww.googleapis.com%2fauth%2fdrive.photos.readonly%20https%3a%2f%2fwww.googleapis.com%2fauth%2fpeopleapi.readonly\n",
            "\n",
            "Enter your authorization code:\n",
            "··········\n",
            "Mounted at /content/drive\n"
          ],
          "name": "stdout"
        }
      ]
    },
    {
      "cell_type": "markdown",
      "metadata": {
        "id": "eOs5Ec_t2vzU",
        "colab_type": "text"
      },
      "source": [
        "#### We need to download these dictionaries first to perform the operations"
      ]
    },
    {
      "cell_type": "code",
      "metadata": {
        "id": "XuWqxO9e1SBa",
        "colab_type": "code",
        "outputId": "59bd83e9-4333-4ffa-a19d-4bd1bc734cb3",
        "colab": {
          "base_uri": "https://localhost:8080/",
          "height": 73
        }
      },
      "source": [
        "nltk.download('stopwords')\n",
        "## for removing the stopwords"
      ],
      "execution_count": 0,
      "outputs": [
        {
          "output_type": "stream",
          "text": [
            "[nltk_data] Downloading package stopwords to /root/nltk_data...\n",
            "[nltk_data]   Package stopwords is already up-to-date!\n"
          ],
          "name": "stdout"
        },
        {
          "output_type": "execute_result",
          "data": {
            "text/plain": [
              "True"
            ]
          },
          "metadata": {
            "tags": []
          },
          "execution_count": 43
        }
      ]
    },
    {
      "cell_type": "code",
      "metadata": {
        "id": "0QGDDY_21SBe",
        "colab_type": "code",
        "outputId": "38ef0069-a7e7-4228-8653-73f615a16cf2",
        "colab": {
          "base_uri": "https://localhost:8080/",
          "height": 73
        }
      },
      "source": [
        "nltk.download('wordnet')"
      ],
      "execution_count": 0,
      "outputs": [
        {
          "output_type": "stream",
          "text": [
            "[nltk_data] Downloading package wordnet to /root/nltk_data...\n",
            "[nltk_data]   Package wordnet is already up-to-date!\n"
          ],
          "name": "stdout"
        },
        {
          "output_type": "execute_result",
          "data": {
            "text/plain": [
              "True"
            ]
          },
          "metadata": {
            "tags": []
          },
          "execution_count": 44
        }
      ]
    },
    {
      "cell_type": "code",
      "metadata": {
        "id": "1huTahYn1SBi",
        "colab_type": "code",
        "colab": {}
      },
      "source": [
        "train = pd.read_csv('/content/drive/My Drive/Shaastra Workshop Material/Text Analysis/train_E6oV3lV.csv', index_col='id')"
      ],
      "execution_count": 0,
      "outputs": []
    },
    {
      "cell_type": "code",
      "metadata": {
        "id": "oWTjEJbsKGBa",
        "colab_type": "code",
        "colab": {}
      },
      "source": [
        "pd.set_option('display.width',100000000)"
      ],
      "execution_count": 0,
      "outputs": []
    },
    {
      "cell_type": "code",
      "metadata": {
        "id": "gVm191Wq1SBl",
        "colab_type": "code",
        "outputId": "4649fc1b-05a7-4d69-8cb9-6cee26f5c42a",
        "colab": {
          "base_uri": "https://localhost:8080/",
          "height": 235
        }
      },
      "source": [
        "train.head()"
      ],
      "execution_count": 0,
      "outputs": [
        {
          "output_type": "execute_result",
          "data": {
            "text/html": [
              "<div>\n",
              "<style scoped>\n",
              "    .dataframe tbody tr th:only-of-type {\n",
              "        vertical-align: middle;\n",
              "    }\n",
              "\n",
              "    .dataframe tbody tr th {\n",
              "        vertical-align: top;\n",
              "    }\n",
              "\n",
              "    .dataframe thead th {\n",
              "        text-align: right;\n",
              "    }\n",
              "</style>\n",
              "<table border=\"1\" class=\"dataframe\">\n",
              "  <thead>\n",
              "    <tr style=\"text-align: right;\">\n",
              "      <th></th>\n",
              "      <th>label</th>\n",
              "      <th>tweet</th>\n",
              "    </tr>\n",
              "    <tr>\n",
              "      <th>id</th>\n",
              "      <th></th>\n",
              "      <th></th>\n",
              "    </tr>\n",
              "  </thead>\n",
              "  <tbody>\n",
              "    <tr>\n",
              "      <th>1</th>\n",
              "      <td>0</td>\n",
              "      <td>@user when a father is dysfunctional and is s...</td>\n",
              "    </tr>\n",
              "    <tr>\n",
              "      <th>2</th>\n",
              "      <td>0</td>\n",
              "      <td>@user @user thanks for #lyft credit i can't us...</td>\n",
              "    </tr>\n",
              "    <tr>\n",
              "      <th>3</th>\n",
              "      <td>0</td>\n",
              "      <td>bihday your majesty</td>\n",
              "    </tr>\n",
              "    <tr>\n",
              "      <th>4</th>\n",
              "      <td>0</td>\n",
              "      <td>#model   i love u take with u all the time in ...</td>\n",
              "    </tr>\n",
              "    <tr>\n",
              "      <th>5</th>\n",
              "      <td>0</td>\n",
              "      <td>factsguide: society now    #motivation</td>\n",
              "    </tr>\n",
              "  </tbody>\n",
              "</table>\n",
              "</div>"
            ],
            "text/plain": [
              "    label                                              tweet\n",
              "id                                                          \n",
              "1       0   @user when a father is dysfunctional and is s...\n",
              "2       0  @user @user thanks for #lyft credit i can't us...\n",
              "3       0                                bihday your majesty\n",
              "4       0  #model   i love u take with u all the time in ...\n",
              "5       0             factsguide: society now    #motivation"
            ]
          },
          "metadata": {
            "tags": []
          },
          "execution_count": 8
        }
      ]
    },
    {
      "cell_type": "code",
      "metadata": {
        "id": "W7RD965k1SBn",
        "colab_type": "code",
        "outputId": "0b9ec2ac-8ca4-43b7-8735-47f8636311e5",
        "colab": {
          "base_uri": "https://localhost:8080/",
          "height": 36
        }
      },
      "source": [
        "train.shape"
      ],
      "execution_count": 0,
      "outputs": [
        {
          "output_type": "execute_result",
          "data": {
            "text/plain": [
              "(31962, 2)"
            ]
          },
          "metadata": {
            "tags": []
          },
          "execution_count": 49
        }
      ]
    },
    {
      "cell_type": "markdown",
      "metadata": {
        "id": "AM8_eSqB1SBq",
        "colab_type": "text"
      },
      "source": [
        "# Basic feature extraction"
      ]
    },
    {
      "cell_type": "markdown",
      "metadata": {
        "id": "R6hkvLhs1SBr",
        "colab_type": "text"
      },
      "source": [
        "## Number of Words\n",
        "\n",
        "One of the most basic features we can extract is the number of words in each tweet. The basic intuition behind this is that generally, the negative sentiments contain a lesser amount of words than the positive ones.\n",
        "\n"
      ]
    },
    {
      "cell_type": "markdown",
      "metadata": {
        "id": "25Isgcce1SBs",
        "colab_type": "text"
      },
      "source": [
        "train['word_count'] = train['tweet'].apply(lambda x: len(str(x).split(\" \")))\n",
        "train[['word_count','tweet']].head()\n",
        "    "
      ]
    },
    {
      "cell_type": "markdown",
      "metadata": {
        "id": "z0EKz9RS1SBu",
        "colab_type": "text"
      },
      "source": [
        "## Number of characters"
      ]
    },
    {
      "cell_type": "code",
      "metadata": {
        "id": "lbnohem41SBw",
        "colab_type": "code",
        "outputId": "80653f58-1d1b-4ade-a3ae-4d8a37819922",
        "colab": {
          "base_uri": "https://localhost:8080/",
          "height": 237
        }
      },
      "source": [
        "train['character_count']=train['tweet'].apply(lambda x: len(x))\n",
        "#alternate\n",
        "#train['word_count'] = train['tweet'].str.len()\n",
        "train.head()"
      ],
      "execution_count": 0,
      "outputs": [
        {
          "output_type": "execute_result",
          "data": {
            "text/html": [
              "<div>\n",
              "<style scoped>\n",
              "    .dataframe tbody tr th:only-of-type {\n",
              "        vertical-align: middle;\n",
              "    }\n",
              "\n",
              "    .dataframe tbody tr th {\n",
              "        vertical-align: top;\n",
              "    }\n",
              "\n",
              "    .dataframe thead th {\n",
              "        text-align: right;\n",
              "    }\n",
              "</style>\n",
              "<table border=\"1\" class=\"dataframe\">\n",
              "  <thead>\n",
              "    <tr style=\"text-align: right;\">\n",
              "      <th></th>\n",
              "      <th>label</th>\n",
              "      <th>tweet</th>\n",
              "      <th>character_count</th>\n",
              "    </tr>\n",
              "    <tr>\n",
              "      <th>id</th>\n",
              "      <th></th>\n",
              "      <th></th>\n",
              "      <th></th>\n",
              "    </tr>\n",
              "  </thead>\n",
              "  <tbody>\n",
              "    <tr>\n",
              "      <th>1</th>\n",
              "      <td>0</td>\n",
              "      <td>@user when a father is dysfunctional and is s...</td>\n",
              "      <td>102</td>\n",
              "    </tr>\n",
              "    <tr>\n",
              "      <th>2</th>\n",
              "      <td>0</td>\n",
              "      <td>@user @user thanks for #lyft credit i can't us...</td>\n",
              "      <td>122</td>\n",
              "    </tr>\n",
              "    <tr>\n",
              "      <th>3</th>\n",
              "      <td>0</td>\n",
              "      <td>bihday your majesty</td>\n",
              "      <td>21</td>\n",
              "    </tr>\n",
              "    <tr>\n",
              "      <th>4</th>\n",
              "      <td>0</td>\n",
              "      <td>#model   i love u take with u all the time in ...</td>\n",
              "      <td>86</td>\n",
              "    </tr>\n",
              "    <tr>\n",
              "      <th>5</th>\n",
              "      <td>0</td>\n",
              "      <td>factsguide: society now    #motivation</td>\n",
              "      <td>39</td>\n",
              "    </tr>\n",
              "  </tbody>\n",
              "</table>\n",
              "</div>"
            ],
            "text/plain": [
              "    label                                              tweet  character_count\n",
              "id                                                                           \n",
              "1       0   @user when a father is dysfunctional and is s...              102\n",
              "2       0  @user @user thanks for #lyft credit i can't us...              122\n",
              "3       0                                bihday your majesty               21\n",
              "4       0  #model   i love u take with u all the time in ...               86\n",
              "5       0             factsguide: society now    #motivation               39"
            ]
          },
          "metadata": {
            "tags": []
          },
          "execution_count": 50
        }
      ]
    },
    {
      "cell_type": "markdown",
      "metadata": {
        "id": "VmSuxjJG1SB0",
        "colab_type": "text"
      },
      "source": [
        "## Average word length"
      ]
    },
    {
      "cell_type": "code",
      "metadata": {
        "id": "IyE5sQhh1SB1",
        "colab_type": "code",
        "outputId": "686e0321-3640-46ce-dac7-99256885ba18",
        "colab": {
          "base_uri": "https://localhost:8080/",
          "height": 237
        }
      },
      "source": [
        "#train['avg_word_len']=train['character_count']/train['word_count']\n",
        "#this works but is not right since character_count also includes spaces\n",
        "\n",
        "def avg_word(sentence):\n",
        "    words = sentence.split()\n",
        "    return (sum(len(word) for word in words)/len(words))\n",
        "\n",
        "train['avg_word'] = train['tweet'].apply(lambda x: avg_word(x))\n",
        "train[['tweet','avg_word']].head()"
      ],
      "execution_count": 0,
      "outputs": [
        {
          "output_type": "execute_result",
          "data": {
            "text/html": [
              "<div>\n",
              "<style scoped>\n",
              "    .dataframe tbody tr th:only-of-type {\n",
              "        vertical-align: middle;\n",
              "    }\n",
              "\n",
              "    .dataframe tbody tr th {\n",
              "        vertical-align: top;\n",
              "    }\n",
              "\n",
              "    .dataframe thead th {\n",
              "        text-align: right;\n",
              "    }\n",
              "</style>\n",
              "<table border=\"1\" class=\"dataframe\">\n",
              "  <thead>\n",
              "    <tr style=\"text-align: right;\">\n",
              "      <th></th>\n",
              "      <th>tweet</th>\n",
              "      <th>avg_word</th>\n",
              "    </tr>\n",
              "    <tr>\n",
              "      <th>id</th>\n",
              "      <th></th>\n",
              "      <th></th>\n",
              "    </tr>\n",
              "  </thead>\n",
              "  <tbody>\n",
              "    <tr>\n",
              "      <th>1</th>\n",
              "      <td>@user when a father is dysfunctional and is s...</td>\n",
              "      <td>4.555556</td>\n",
              "    </tr>\n",
              "    <tr>\n",
              "      <th>2</th>\n",
              "      <td>@user @user thanks for #lyft credit i can't us...</td>\n",
              "      <td>5.315789</td>\n",
              "    </tr>\n",
              "    <tr>\n",
              "      <th>3</th>\n",
              "      <td>bihday your majesty</td>\n",
              "      <td>5.666667</td>\n",
              "    </tr>\n",
              "    <tr>\n",
              "      <th>4</th>\n",
              "      <td>#model   i love u take with u all the time in ...</td>\n",
              "      <td>4.928571</td>\n",
              "    </tr>\n",
              "    <tr>\n",
              "      <th>5</th>\n",
              "      <td>factsguide: society now    #motivation</td>\n",
              "      <td>8.000000</td>\n",
              "    </tr>\n",
              "  </tbody>\n",
              "</table>\n",
              "</div>"
            ],
            "text/plain": [
              "                                                tweet  avg_word\n",
              "id                                                             \n",
              "1    @user when a father is dysfunctional and is s...  4.555556\n",
              "2   @user @user thanks for #lyft credit i can't us...  5.315789\n",
              "3                                 bihday your majesty  5.666667\n",
              "4   #model   i love u take with u all the time in ...  4.928571\n",
              "5              factsguide: society now    #motivation  8.000000"
            ]
          },
          "metadata": {
            "tags": []
          },
          "execution_count": 51
        }
      ]
    },
    {
      "cell_type": "markdown",
      "metadata": {
        "id": "jchV77N61SB3",
        "colab_type": "text"
      },
      "source": [
        "## Counting number of stopwords\n",
        "Stopwords are words which are filtered out before processing of natural language data. Stop words are generally the most common words in a language. Example, the, what, where, how, has, had etc.\n",
        "\n",
        "Generally, while solving an NLP problem, the first thing we do is to remove the stopwords. But sometimes calculating the number of stopwords can also give us some extra information which we might have been losing before.\n",
        "\n",
        "For this we use a library called nltk, a basic NLP library"
      ]
    },
    {
      "cell_type": "code",
      "metadata": {
        "id": "BRa8MuyT1SB4",
        "colab_type": "code",
        "outputId": "b28019ef-b8e6-42bd-eee8-bf65ed8211fd",
        "colab": {
          "base_uri": "https://localhost:8080/",
          "height": 235
        }
      },
      "source": [
        "stop = stopwords.words('english')\n",
        "\n",
        "train['stopwords'] = train['tweet'].apply(lambda x: len([x for x in x.split() if x in stop]))\n",
        "train[['tweet','stopwords']].head()"
      ],
      "execution_count": 0,
      "outputs": [
        {
          "output_type": "execute_result",
          "data": {
            "text/html": [
              "<div>\n",
              "<style scoped>\n",
              "    .dataframe tbody tr th:only-of-type {\n",
              "        vertical-align: middle;\n",
              "    }\n",
              "\n",
              "    .dataframe tbody tr th {\n",
              "        vertical-align: top;\n",
              "    }\n",
              "\n",
              "    .dataframe thead th {\n",
              "        text-align: right;\n",
              "    }\n",
              "</style>\n",
              "<table border=\"1\" class=\"dataframe\">\n",
              "  <thead>\n",
              "    <tr style=\"text-align: right;\">\n",
              "      <th></th>\n",
              "      <th>tweet</th>\n",
              "      <th>stopwords</th>\n",
              "    </tr>\n",
              "    <tr>\n",
              "      <th>id</th>\n",
              "      <th></th>\n",
              "      <th></th>\n",
              "    </tr>\n",
              "  </thead>\n",
              "  <tbody>\n",
              "    <tr>\n",
              "      <th>1</th>\n",
              "      <td>@user when a father is dysfunctional and is s...</td>\n",
              "      <td>10</td>\n",
              "    </tr>\n",
              "    <tr>\n",
              "      <th>2</th>\n",
              "      <td>@user @user thanks for #lyft credit i can't us...</td>\n",
              "      <td>5</td>\n",
              "    </tr>\n",
              "    <tr>\n",
              "      <th>3</th>\n",
              "      <td>bihday your majesty</td>\n",
              "      <td>1</td>\n",
              "    </tr>\n",
              "    <tr>\n",
              "      <th>4</th>\n",
              "      <td>#model   i love u take with u all the time in ...</td>\n",
              "      <td>5</td>\n",
              "    </tr>\n",
              "    <tr>\n",
              "      <th>5</th>\n",
              "      <td>factsguide: society now    #motivation</td>\n",
              "      <td>1</td>\n",
              "    </tr>\n",
              "  </tbody>\n",
              "</table>\n",
              "</div>"
            ],
            "text/plain": [
              "                                                tweet  stopwords\n",
              "id                                                              \n",
              "1    @user when a father is dysfunctional and is s...         10\n",
              "2   @user @user thanks for #lyft credit i can't us...          5\n",
              "3                                 bihday your majesty          1\n",
              "4   #model   i love u take with u all the time in ...          5\n",
              "5              factsguide: society now    #motivation          1"
            ]
          },
          "metadata": {
            "tags": []
          },
          "execution_count": 12
        }
      ]
    },
    {
      "cell_type": "markdown",
      "metadata": {
        "id": "NbrGa7zD1SB7",
        "colab_type": "text"
      },
      "source": [
        "## Number of special characters\n",
        "One more interesting feature which we can extract from a tweet is calculating the number of hashtags or mentions present in it. This also helps in extracting extra information from our text data.\n",
        "\n",
        "Here, we make use of the ‘starts with’ function because hashtags (or mentions) always appear at the beginning of a word.\n",
        "\n"
      ]
    },
    {
      "cell_type": "code",
      "metadata": {
        "id": "AzylKlIw1SB8",
        "colab_type": "code",
        "outputId": "6b60254f-fd01-48dd-de95-6cdf44a63b24",
        "colab": {
          "base_uri": "https://localhost:8080/",
          "height": 235
        }
      },
      "source": [
        "train['hastags'] = train['tweet'].apply(lambda x: len([x for x in x.split() if x.startswith('#')]))\n",
        "train[['tweet','hastags']].head()"
      ],
      "execution_count": 0,
      "outputs": [
        {
          "output_type": "execute_result",
          "data": {
            "text/html": [
              "<div>\n",
              "<style scoped>\n",
              "    .dataframe tbody tr th:only-of-type {\n",
              "        vertical-align: middle;\n",
              "    }\n",
              "\n",
              "    .dataframe tbody tr th {\n",
              "        vertical-align: top;\n",
              "    }\n",
              "\n",
              "    .dataframe thead th {\n",
              "        text-align: right;\n",
              "    }\n",
              "</style>\n",
              "<table border=\"1\" class=\"dataframe\">\n",
              "  <thead>\n",
              "    <tr style=\"text-align: right;\">\n",
              "      <th></th>\n",
              "      <th>tweet</th>\n",
              "      <th>hastags</th>\n",
              "    </tr>\n",
              "    <tr>\n",
              "      <th>id</th>\n",
              "      <th></th>\n",
              "      <th></th>\n",
              "    </tr>\n",
              "  </thead>\n",
              "  <tbody>\n",
              "    <tr>\n",
              "      <th>1</th>\n",
              "      <td>@user when a father is dysfunctional and is s...</td>\n",
              "      <td>1</td>\n",
              "    </tr>\n",
              "    <tr>\n",
              "      <th>2</th>\n",
              "      <td>@user @user thanks for #lyft credit i can't us...</td>\n",
              "      <td>3</td>\n",
              "    </tr>\n",
              "    <tr>\n",
              "      <th>3</th>\n",
              "      <td>bihday your majesty</td>\n",
              "      <td>0</td>\n",
              "    </tr>\n",
              "    <tr>\n",
              "      <th>4</th>\n",
              "      <td>#model   i love u take with u all the time in ...</td>\n",
              "      <td>1</td>\n",
              "    </tr>\n",
              "    <tr>\n",
              "      <th>5</th>\n",
              "      <td>factsguide: society now    #motivation</td>\n",
              "      <td>1</td>\n",
              "    </tr>\n",
              "  </tbody>\n",
              "</table>\n",
              "</div>"
            ],
            "text/plain": [
              "                                                tweet  hastags\n",
              "id                                                            \n",
              "1    @user when a father is dysfunctional and is s...        1\n",
              "2   @user @user thanks for #lyft credit i can't us...        3\n",
              "3                                 bihday your majesty        0\n",
              "4   #model   i love u take with u all the time in ...        1\n",
              "5              factsguide: society now    #motivation        1"
            ]
          },
          "metadata": {
            "tags": []
          },
          "execution_count": 13
        }
      ]
    },
    {
      "cell_type": "markdown",
      "metadata": {
        "id": "yw78c1fw1SB-",
        "colab_type": "text"
      },
      "source": [
        " ## Number of numerics\n",
        " Just like we calculated the number of words, we can also calculate the number of numerics which are present in the tweets. It does not have a lot of use in our example, but this is still a useful feature that should be run while doing similar exercises. \n",
        "\n"
      ]
    },
    {
      "cell_type": "code",
      "metadata": {
        "id": "mgceEijR1SB_",
        "colab_type": "code",
        "outputId": "0a843434-bf8a-49f7-94f7-d3767f900ada",
        "colab": {
          "base_uri": "https://localhost:8080/",
          "height": 235
        }
      },
      "source": [
        "train['numerics'] = train['tweet'].apply(lambda x: len([x for x in x.split() if x.isdigit()]))\n",
        "train[['tweet','numerics']].head()"
      ],
      "execution_count": 0,
      "outputs": [
        {
          "output_type": "execute_result",
          "data": {
            "text/html": [
              "<div>\n",
              "<style scoped>\n",
              "    .dataframe tbody tr th:only-of-type {\n",
              "        vertical-align: middle;\n",
              "    }\n",
              "\n",
              "    .dataframe tbody tr th {\n",
              "        vertical-align: top;\n",
              "    }\n",
              "\n",
              "    .dataframe thead th {\n",
              "        text-align: right;\n",
              "    }\n",
              "</style>\n",
              "<table border=\"1\" class=\"dataframe\">\n",
              "  <thead>\n",
              "    <tr style=\"text-align: right;\">\n",
              "      <th></th>\n",
              "      <th>tweet</th>\n",
              "      <th>numerics</th>\n",
              "    </tr>\n",
              "    <tr>\n",
              "      <th>id</th>\n",
              "      <th></th>\n",
              "      <th></th>\n",
              "    </tr>\n",
              "  </thead>\n",
              "  <tbody>\n",
              "    <tr>\n",
              "      <th>1</th>\n",
              "      <td>@user when a father is dysfunctional and is s...</td>\n",
              "      <td>0</td>\n",
              "    </tr>\n",
              "    <tr>\n",
              "      <th>2</th>\n",
              "      <td>@user @user thanks for #lyft credit i can't us...</td>\n",
              "      <td>0</td>\n",
              "    </tr>\n",
              "    <tr>\n",
              "      <th>3</th>\n",
              "      <td>bihday your majesty</td>\n",
              "      <td>0</td>\n",
              "    </tr>\n",
              "    <tr>\n",
              "      <th>4</th>\n",
              "      <td>#model   i love u take with u all the time in ...</td>\n",
              "      <td>0</td>\n",
              "    </tr>\n",
              "    <tr>\n",
              "      <th>5</th>\n",
              "      <td>factsguide: society now    #motivation</td>\n",
              "      <td>0</td>\n",
              "    </tr>\n",
              "  </tbody>\n",
              "</table>\n",
              "</div>"
            ],
            "text/plain": [
              "                                                tweet  numerics\n",
              "id                                                             \n",
              "1    @user when a father is dysfunctional and is s...         0\n",
              "2   @user @user thanks for #lyft credit i can't us...         0\n",
              "3                                 bihday your majesty         0\n",
              "4   #model   i love u take with u all the time in ...         0\n",
              "5              factsguide: society now    #motivation         0"
            ]
          },
          "metadata": {
            "tags": []
          },
          "execution_count": 14
        }
      ]
    },
    {
      "cell_type": "markdown",
      "metadata": {
        "id": "gHw3erLB1SCC",
        "colab_type": "text"
      },
      "source": [
        "## Number of Uppercase words\n",
        "Anger or rage is quite often expressed by writing in UPPERCASE words which makes this a necessary operation to identify those words."
      ]
    },
    {
      "cell_type": "code",
      "metadata": {
        "id": "Fr6Xtbv-1SCD",
        "colab_type": "code",
        "outputId": "d170e338-9a39-4f64-87d9-d86d9a77cbea",
        "colab": {
          "base_uri": "https://localhost:8080/",
          "height": 235
        }
      },
      "source": [
        "train['upper'] = train['tweet'].apply(lambda x: len([x for x in x.split() if x.isupper()]))\n",
        "train[['tweet','upper']].head()"
      ],
      "execution_count": 0,
      "outputs": [
        {
          "output_type": "execute_result",
          "data": {
            "text/html": [
              "<div>\n",
              "<style scoped>\n",
              "    .dataframe tbody tr th:only-of-type {\n",
              "        vertical-align: middle;\n",
              "    }\n",
              "\n",
              "    .dataframe tbody tr th {\n",
              "        vertical-align: top;\n",
              "    }\n",
              "\n",
              "    .dataframe thead th {\n",
              "        text-align: right;\n",
              "    }\n",
              "</style>\n",
              "<table border=\"1\" class=\"dataframe\">\n",
              "  <thead>\n",
              "    <tr style=\"text-align: right;\">\n",
              "      <th></th>\n",
              "      <th>tweet</th>\n",
              "      <th>upper</th>\n",
              "    </tr>\n",
              "    <tr>\n",
              "      <th>id</th>\n",
              "      <th></th>\n",
              "      <th></th>\n",
              "    </tr>\n",
              "  </thead>\n",
              "  <tbody>\n",
              "    <tr>\n",
              "      <th>1</th>\n",
              "      <td>@user when a father is dysfunctional and is s...</td>\n",
              "      <td>0</td>\n",
              "    </tr>\n",
              "    <tr>\n",
              "      <th>2</th>\n",
              "      <td>@user @user thanks for #lyft credit i can't us...</td>\n",
              "      <td>0</td>\n",
              "    </tr>\n",
              "    <tr>\n",
              "      <th>3</th>\n",
              "      <td>bihday your majesty</td>\n",
              "      <td>0</td>\n",
              "    </tr>\n",
              "    <tr>\n",
              "      <th>4</th>\n",
              "      <td>#model   i love u take with u all the time in ...</td>\n",
              "      <td>0</td>\n",
              "    </tr>\n",
              "    <tr>\n",
              "      <th>5</th>\n",
              "      <td>factsguide: society now    #motivation</td>\n",
              "      <td>0</td>\n",
              "    </tr>\n",
              "  </tbody>\n",
              "</table>\n",
              "</div>"
            ],
            "text/plain": [
              "                                                tweet  upper\n",
              "id                                                          \n",
              "1    @user when a father is dysfunctional and is s...      0\n",
              "2   @user @user thanks for #lyft credit i can't us...      0\n",
              "3                                 bihday your majesty      0\n",
              "4   #model   i love u take with u all the time in ...      0\n",
              "5              factsguide: society now    #motivation      0"
            ]
          },
          "metadata": {
            "tags": []
          },
          "execution_count": 15
        }
      ]
    },
    {
      "cell_type": "markdown",
      "metadata": {
        "id": "QZwXSkK51SCG",
        "colab_type": "text"
      },
      "source": [
        "# Basic feature extraction\n",
        "\n",
        "So far, we have learned how to extract basic features from text data. Before diving into text and feature extraction, our first step should be cleaning the data in order to obtain better features. We will achieve this by doing some of the basic pre-processing steps on our training data."
      ]
    },
    {
      "cell_type": "markdown",
      "metadata": {
        "id": "epKINMym1SCH",
        "colab_type": "text"
      },
      "source": [
        "## Lower case\n",
        "The first pre-processing step which we will do is transform our tweets into lower case. This avoids having multiple copies of the same words. For example, while calculating the word count, ‘Analytics’ and ‘analytics’ will be taken as different words."
      ]
    },
    {
      "cell_type": "code",
      "metadata": {
        "id": "fp2S7pJf1SCI",
        "colab_type": "code",
        "outputId": "5bc5c4ac-285a-4ed5-c9dc-e0f30e4f37bc",
        "colab": {
          "base_uri": "https://localhost:8080/",
          "height": 148
        }
      },
      "source": [
        "train['tweet'] = train['tweet'].apply(lambda x: \" \".join(x.lower() for x in x.split()))\n",
        "train['tweet'].head()"
      ],
      "execution_count": 0,
      "outputs": [
        {
          "output_type": "execute_result",
          "data": {
            "text/plain": [
              "id\n",
              "1    @user when a father is dysfunctional and is so...\n",
              "2    @user @user thanks for #lyft credit i can't us...\n",
              "3                                  bihday your majesty\n",
              "4    #model i love u take with u all the time in ur...\n",
              "5                  factsguide: society now #motivation\n",
              "Name: tweet, dtype: object"
            ]
          },
          "metadata": {
            "tags": []
          },
          "execution_count": 52
        }
      ]
    },
    {
      "cell_type": "markdown",
      "metadata": {
        "id": "xeo4IDax1SCL",
        "colab_type": "text"
      },
      "source": [
        "##  Removing Punctuation\n",
        "The next step is to remove punctuation, as it doesn’t add any extra information while treating text data. Therefore removing all instances of it will help us reduce the size of the training data."
      ]
    },
    {
      "cell_type": "code",
      "metadata": {
        "id": "rQXodoyC1SCM",
        "colab_type": "code",
        "outputId": "7424030b-b334-4149-acd9-d463b051b54d",
        "colab": {
          "base_uri": "https://localhost:8080/",
          "height": 148
        }
      },
      "source": [
        "train['tweet'] = train['tweet'].str.replace('[^\\w\\s]','')\n",
        "train['tweet'].head()"
      ],
      "execution_count": 0,
      "outputs": [
        {
          "output_type": "execute_result",
          "data": {
            "text/plain": [
              "id\n",
              "1    user when a father is dysfunctional and is so ...\n",
              "2    user user thanks for lyft credit i cant use ca...\n",
              "3                                  bihday your majesty\n",
              "4    model i love u take with u all the time in urð...\n",
              "5                    factsguide society now motivation\n",
              "Name: tweet, dtype: object"
            ]
          },
          "metadata": {
            "tags": []
          },
          "execution_count": 53
        }
      ]
    },
    {
      "cell_type": "markdown",
      "metadata": {
        "id": "GtWc-6EB1SCO",
        "colab_type": "text"
      },
      "source": [
        "## Removal of Stop Words\n",
        "As we discussed earlier, stop words (or commonly occurring words) should be removed from the text data. For this purpose, we can either create a list of stopwords ourselves or we can use predefined libraries."
      ]
    },
    {
      "cell_type": "code",
      "metadata": {
        "id": "tGfJtKze1SCP",
        "colab_type": "code",
        "outputId": "e02290a1-455f-4eb7-8b50-495e41b1aff0",
        "colab": {
          "base_uri": "https://localhost:8080/",
          "height": 185
        }
      },
      "source": [
        "nltk.download('stopwords')\n",
        "## for removing the stopwords\n",
        "from nltk.corpus import stopwords\n",
        "\n",
        "stop = stopwords.words('english')\n",
        "train['tweet'] = train['tweet'].apply(lambda x: \" \".join(x for x in x.split() if x not in stop))\n",
        "train['tweet'].head()"
      ],
      "execution_count": 0,
      "outputs": [
        {
          "output_type": "stream",
          "text": [
            "[nltk_data] Downloading package stopwords to /root/nltk_data...\n",
            "[nltk_data]   Package stopwords is already up-to-date!\n"
          ],
          "name": "stdout"
        },
        {
          "output_type": "execute_result",
          "data": {
            "text/plain": [
              "id\n",
              "1    user father dysfunctional selfish drags kids d...\n",
              "2    user user thanks lyft credit cant use cause do...\n",
              "3                                       bihday majesty\n",
              "4                model love u take u time urð ðððð ððð\n",
              "5                        factsguide society motivation\n",
              "Name: tweet, dtype: object"
            ]
          },
          "metadata": {
            "tags": []
          },
          "execution_count": 55
        }
      ]
    },
    {
      "cell_type": "markdown",
      "metadata": {
        "id": "NhJkDEBz1SCR",
        "colab_type": "text"
      },
      "source": [
        "## Common word removal\n",
        "Previously, we just removed commonly occurring words in a general sense. We can also remove commonly occurring words from our text data First, let’s check the 10 most frequently occurring words in our text data then take call to remove or retain."
      ]
    },
    {
      "cell_type": "code",
      "metadata": {
        "id": "CEjQOP5u1SCS",
        "colab_type": "code",
        "outputId": "7ac22467-10be-428c-f909-bb0fc45046d9",
        "colab": {
          "base_uri": "https://localhost:8080/",
          "height": 54
        }
      },
      "source": [
        "freq = pd.Series(' '.join(train['tweet']).split()).value_counts()[:1]\n",
        "freq"
      ],
      "execution_count": 0,
      "outputs": [
        {
          "output_type": "execute_result",
          "data": {
            "text/plain": [
              "user    17473\n",
              "dtype: int64"
            ]
          },
          "metadata": {
            "tags": []
          },
          "execution_count": 58
        }
      ]
    },
    {
      "cell_type": "code",
      "metadata": {
        "id": "hFP49oyR1SCX",
        "colab_type": "code",
        "outputId": "b35ca32a-4c08-43d1-c0fe-e6c6ca5ce19b",
        "colab": {
          "base_uri": "https://localhost:8080/",
          "height": 148
        }
      },
      "source": [
        "#Now, let’s remove these words as their presence will not of any use in classification of our text data.\n",
        "\n",
        "freq = list(freq.index)\n",
        "train['tweet'] = train['tweet'].apply(lambda x: \" \".join(x for x in x.split() if x not in freq))\n",
        "train['tweet'].head()"
      ],
      "execution_count": 0,
      "outputs": [
        {
          "output_type": "execute_result",
          "data": {
            "text/plain": [
              "id\n",
              "1    father dysfunctional selfish drags kids dysfun...\n",
              "2    thanks lyft credit cant use cause dont offer w...\n",
              "3                                       bihday majesty\n",
              "4                model love u take u time urð ðððð ððð\n",
              "5                        factsguide society motivation\n",
              "Name: tweet, dtype: object"
            ]
          },
          "metadata": {
            "tags": []
          },
          "execution_count": 59
        }
      ]
    },
    {
      "cell_type": "markdown",
      "metadata": {
        "id": "hkyjnR_J1SCa",
        "colab_type": "text"
      },
      "source": [
        "## Rare words removal\n",
        "Similarly, just as we removed the most common words, this time let’s remove rarely occurring words from the text. Because they’re so rare, the association between them and other words is dominated by noise. You can replace rare words with a more general form and then this will have higher counts\n",
        "\n"
      ]
    },
    {
      "cell_type": "code",
      "metadata": {
        "id": "oPc2f-Hq1SCb",
        "colab_type": "code",
        "outputId": "17afeaf4-c055-425b-acba-19b2c5e7ac33",
        "colab": {
          "base_uri": "https://localhost:8080/",
          "height": 223
        }
      },
      "source": [
        "freq = pd.Series(' '.join(train['tweet']).split()).value_counts()[-10:]\n",
        "freq"
      ],
      "execution_count": 0,
      "outputs": [
        {
          "output_type": "execute_result",
          "data": {
            "text/plain": [
              "foiinãbranlable                         1\n",
              "ibizabringitonmallorcaholidayssummer    1\n",
              "quiltbag                                1\n",
              "sunsetcliffs                            1\n",
              "newsgod                                 1\n",
              "pedophiles                              1\n",
              "fetishes                                1\n",
              "faketroll                               1\n",
              "noballs                                 1\n",
              "berlincitygirl                          1\n",
              "dtype: int64"
            ]
          },
          "metadata": {
            "tags": []
          },
          "execution_count": 61
        }
      ]
    },
    {
      "cell_type": "code",
      "metadata": {
        "id": "IM-87-1U1SCe",
        "colab_type": "code",
        "outputId": "7d38fb37-fca1-4909-ff83-3d5e49517dfa",
        "colab": {
          "base_uri": "https://localhost:8080/",
          "height": 148
        }
      },
      "source": [
        "freq = list(freq.index)\n",
        "train['tweet'] = train['tweet'].apply(lambda x: \" \".join(x for x in x.split() if x not in freq))\n",
        "train['tweet'].head()"
      ],
      "execution_count": 0,
      "outputs": [
        {
          "output_type": "execute_result",
          "data": {
            "text/plain": [
              "id\n",
              "1    father dysfunctional selfish drags kids dysfun...\n",
              "2    thanks lyft credit cant use cause dont offer w...\n",
              "3                                       bihday majesty\n",
              "4                model love u take u time urð ðððð ððð\n",
              "5                        factsguide society motivation\n",
              "Name: tweet, dtype: object"
            ]
          },
          "metadata": {
            "tags": []
          },
          "execution_count": 62
        }
      ]
    },
    {
      "cell_type": "markdown",
      "metadata": {
        "id": "KG9h8gP81SCf",
        "colab_type": "text"
      },
      "source": [
        "## Spelling correction\n",
        "We’ve all seen tweets with a plethora of spelling mistakes. Our timelines are often filled with hastly sent tweets that are barely legible at times.\n",
        "\n",
        "In that regard, spelling correction is a useful pre-processing step because this also will help us in reducing multiple copies of words. For example, “Analytics” and “analytcs” will be treated as different words even if they are used in the same sense.\n",
        "\n",
        "To achieve this we will use the textblob library. If you are not familiar with it, you can check my previous article on ‘NLP for beginners using textblob’."
      ]
    },
    {
      "cell_type": "code",
      "metadata": {
        "id": "04BX9BwY1SCg",
        "colab_type": "code",
        "outputId": "a3e3fa00-aa07-4963-89cd-311c768ba40a",
        "colab": {
          "base_uri": "https://localhost:8080/",
          "height": 148
        }
      },
      "source": [
        "from textblob import TextBlob\n",
        "train['tweet'][:5].apply(lambda x: str(TextBlob(x).correct()))"
      ],
      "execution_count": 0,
      "outputs": [
        {
          "output_type": "execute_result",
          "data": {
            "text/plain": [
              "id\n",
              "1    father dysfunctional selfish drags kiss dysfun...\n",
              "2    thanks left credit can use cause dont offer wh...\n",
              "3                                       midday majesty\n",
              "4                 model love u take u time or ðððð ððð\n",
              "5                        factsguide society motivation\n",
              "Name: tweet, dtype: object"
            ]
          },
          "metadata": {
            "tags": []
          },
          "execution_count": 63
        }
      ]
    },
    {
      "cell_type": "markdown",
      "metadata": {
        "id": "MkreJ-o01SCj",
        "colab_type": "text"
      },
      "source": [
        "Note that it will actually take a lot of time to make these corrections. Therefore, just for the purposes of learning, I have shown this technique by applying it on only the first 5 rows. Moreover, we cannot always expect it to be accurate so some care should be taken before applying it.\n",
        "\n",
        "We should also keep in mind that words are often used in their abbreviated form. For instance, ‘your’ is used as ‘ur’. We should treat this before the spelling correction step, otherwise these words might be transformed into any other word like the one shown below:\n",
        "\n"
      ]
    },
    {
      "cell_type": "markdown",
      "metadata": {
        "id": "P3y2RlJ21SCk",
        "colab_type": "text"
      },
      "source": [
        "## Tokenization\n",
        "Tokenization refers to dividing the text into a sequence of words or sentences. In our example, we have used the textblob library to first transform our tweets into a blob and then converted them into a series of words."
      ]
    },
    {
      "cell_type": "code",
      "metadata": {
        "id": "rMkgf25U1SCl",
        "colab_type": "code",
        "outputId": "1f477cec-3907-4fd6-cad9-f7807897b357",
        "colab": {
          "base_uri": "https://localhost:8080/",
          "height": 73
        }
      },
      "source": [
        "nltk.download('punkt')\n",
        "TextBlob(train['tweet'][3]).words"
      ],
      "execution_count": 0,
      "outputs": [
        {
          "output_type": "stream",
          "text": [
            "[nltk_data] Downloading package punkt to /root/nltk_data...\n",
            "[nltk_data]   Package punkt is already up-to-date!\n"
          ],
          "name": "stdout"
        },
        {
          "output_type": "execute_result",
          "data": {
            "text/plain": [
              "WordList(['bihday', 'majesty'])"
            ]
          },
          "metadata": {
            "tags": []
          },
          "execution_count": 65
        }
      ]
    },
    {
      "cell_type": "markdown",
      "metadata": {
        "id": "mktuB4Vo1SCn",
        "colab_type": "text"
      },
      "source": [
        "## Stemming\n",
        "Stemming refers to the removal of suffices, like “ing”, “ly”, “s”, etc. by a simple rule-based approach. For this purpose, we will use PorterStemmer from the NLTK library."
      ]
    },
    {
      "cell_type": "code",
      "metadata": {
        "id": "7gofyMSn1SCo",
        "colab_type": "code",
        "outputId": "904406f9-3987-4958-f5e3-f7438ae343b2",
        "colab": {
          "base_uri": "https://localhost:8080/",
          "height": 136
        }
      },
      "source": [
        "from nltk.stem import PorterStemmer\n",
        "st = PorterStemmer()\n",
        "train['tweet'][:5].apply(lambda x: \" \".join([st.stem(word) for word in x.split()]))"
      ],
      "execution_count": 0,
      "outputs": [
        {
          "output_type": "execute_result",
          "data": {
            "text/plain": [
              "id\n",
              "1        father dysfunct selfish drag kid dysfunct run\n",
              "2    thank lyft credit cant use caus dont offer whe...\n",
              "3                                       bihday majesti\n",
              "4                              model take urð ðððð ððð\n",
              "5                              factsguid societi motiv\n",
              "Name: tweet, dtype: object"
            ]
          },
          "metadata": {
            "tags": []
          },
          "execution_count": 27
        }
      ]
    },
    {
      "cell_type": "markdown",
      "metadata": {
        "id": "Ka1QLQV-1SCq",
        "colab_type": "text"
      },
      "source": [
        "## Lemmatization\n",
        "Lemmatization is a more effective option than stemming because it converts the word into its root word, rather than just stripping the suffices. It makes use of the vocabulary and does a morphological analysis to obtain the root word. Therefore, we usually prefer using lemmatization over stemming.\n",
        "\n"
      ]
    },
    {
      "cell_type": "code",
      "metadata": {
        "id": "vyviKR0m1SCq",
        "colab_type": "code",
        "outputId": "83175c8a-2d6f-4ff2-958d-6ee5cef90b64",
        "colab": {
          "base_uri": "https://localhost:8080/",
          "height": 185
        }
      },
      "source": [
        "from textblob import Word\n",
        "nltk.download('wordnet')\n",
        "train['tweet'] = train['tweet'].apply(lambda x: \" \".join([Word(word).lemmatize() for word in x.split()]))\n",
        "train['tweet'].head()"
      ],
      "execution_count": 0,
      "outputs": [
        {
          "output_type": "stream",
          "text": [
            "[nltk_data] Downloading package wordnet to /root/nltk_data...\n",
            "[nltk_data]   Package wordnet is already up-to-date!\n"
          ],
          "name": "stdout"
        },
        {
          "output_type": "execute_result",
          "data": {
            "text/plain": [
              "id\n",
              "1    father dysfunctional selfish drag kid dysfunct...\n",
              "2    thanks lyft credit cant use cause dont offer w...\n",
              "3                                       bihday majesty\n",
              "4                model love u take u time urð ðððð ððð\n",
              "5                        factsguide society motivation\n",
              "Name: tweet, dtype: object"
            ]
          },
          "metadata": {
            "tags": []
          },
          "execution_count": 66
        }
      ]
    },
    {
      "cell_type": "markdown",
      "metadata": {
        "id": "7jsqogWq1SCt",
        "colab_type": "text"
      },
      "source": [
        "# Advanced Text Processing\n",
        "Up to this point, we have done all the basic pre-processing steps in order to clean our data. Now, we can finally move on to extracting features using NLP techniques.\n",
        "\n",
        " "
      ]
    },
    {
      "cell_type": "markdown",
      "metadata": {
        "id": "4Sae5Ubq1SCt",
        "colab_type": "text"
      },
      "source": [
        "## N-grams\n",
        "N-grams are the combination of multiple words used together. Ngrams with N=1 are called unigrams. Similarly, bigrams (N=2), trigrams (N=3) and so on can also be used.\n",
        "\n",
        "Unigrams do not usually contain as much information as compared to bigrams and trigrams. The basic principle behind n-grams is that they capture the language structure, like what letter or word is likely to follow the given one. The longer the n-gram (the higher the n), the more context you have to work with. Optimum length really depends on the application – if your n-grams are too short, you may fail to capture important differences. On the other hand, if they are too long, you may fail to capture the “general knowledge” and only stick to particular cases.\n",
        "\n",
        "So, let’s quickly extract bigrams from our tweets using the ngrams function of the textblob library.\n",
        "\n"
      ]
    },
    {
      "cell_type": "code",
      "metadata": {
        "id": "wVKSzP8t1SCu",
        "colab_type": "code",
        "outputId": "b2e956e4-01a0-445d-afb1-0a1f45aa7c92",
        "colab": {
          "base_uri": "https://localhost:8080/",
          "height": 119
        }
      },
      "source": [
        "TextBlob(train['tweet'][1]).ngrams(2)"
      ],
      "execution_count": 0,
      "outputs": [
        {
          "output_type": "execute_result",
          "data": {
            "text/plain": [
              "[WordList(['father', 'dysfunctional']),\n",
              " WordList(['dysfunctional', 'selfish']),\n",
              " WordList(['selfish', 'drag']),\n",
              " WordList(['drag', 'kid']),\n",
              " WordList(['kid', 'dysfunction']),\n",
              " WordList(['dysfunction', 'run'])]"
            ]
          },
          "metadata": {
            "tags": []
          },
          "execution_count": 29
        }
      ]
    },
    {
      "cell_type": "markdown",
      "metadata": {
        "id": "kVMTywzO1SCy",
        "colab_type": "text"
      },
      "source": [
        "## Term frequency\n",
        "Term frequency is simply the ratio of the count of a word present in a sentence, to the length of the sentence.\n",
        "\n",
        "Therefore, we can generalize term frequency as:\n",
        "\n",
        "TF = (Number of times term T appears in the particular row) / (number of terms in that row)"
      ]
    },
    {
      "cell_type": "code",
      "metadata": {
        "id": "KI-67GLQ1SCz",
        "colab_type": "code",
        "outputId": "b3a1326a-c335-48a8-ebde-271f2b123712",
        "colab": {
          "base_uri": "https://localhost:8080/",
          "height": 452
        }
      },
      "source": [
        "tf1 = (train['tweet'][1:2]).apply(lambda x: pd.value_counts(x.split(\" \"))).sum(axis = 0).reset_index()\n",
        "tf1.columns = ['words','tf']\n",
        "tf1"
      ],
      "execution_count": 0,
      "outputs": [
        {
          "output_type": "execute_result",
          "data": {
            "text/html": [
              "<div>\n",
              "<style scoped>\n",
              "    .dataframe tbody tr th:only-of-type {\n",
              "        vertical-align: middle;\n",
              "    }\n",
              "\n",
              "    .dataframe tbody tr th {\n",
              "        vertical-align: top;\n",
              "    }\n",
              "\n",
              "    .dataframe thead th {\n",
              "        text-align: right;\n",
              "    }\n",
              "</style>\n",
              "<table border=\"1\" class=\"dataframe\">\n",
              "  <thead>\n",
              "    <tr style=\"text-align: right;\">\n",
              "      <th></th>\n",
              "      <th>words</th>\n",
              "      <th>tf</th>\n",
              "    </tr>\n",
              "  </thead>\n",
              "  <tbody>\n",
              "    <tr>\n",
              "      <th>0</th>\n",
              "      <td>lyft</td>\n",
              "      <td>1</td>\n",
              "    </tr>\n",
              "    <tr>\n",
              "      <th>1</th>\n",
              "      <td>offer</td>\n",
              "      <td>1</td>\n",
              "    </tr>\n",
              "    <tr>\n",
              "      <th>2</th>\n",
              "      <td>cant</td>\n",
              "      <td>1</td>\n",
              "    </tr>\n",
              "    <tr>\n",
              "      <th>3</th>\n",
              "      <td>pdx</td>\n",
              "      <td>1</td>\n",
              "    </tr>\n",
              "    <tr>\n",
              "      <th>4</th>\n",
              "      <td>thanks</td>\n",
              "      <td>1</td>\n",
              "    </tr>\n",
              "    <tr>\n",
              "      <th>5</th>\n",
              "      <td>dont</td>\n",
              "      <td>1</td>\n",
              "    </tr>\n",
              "    <tr>\n",
              "      <th>6</th>\n",
              "      <td>credit</td>\n",
              "      <td>1</td>\n",
              "    </tr>\n",
              "    <tr>\n",
              "      <th>7</th>\n",
              "      <td>van</td>\n",
              "      <td>1</td>\n",
              "    </tr>\n",
              "    <tr>\n",
              "      <th>8</th>\n",
              "      <td>getthanked</td>\n",
              "      <td>1</td>\n",
              "    </tr>\n",
              "    <tr>\n",
              "      <th>9</th>\n",
              "      <td>disapointed</td>\n",
              "      <td>1</td>\n",
              "    </tr>\n",
              "    <tr>\n",
              "      <th>10</th>\n",
              "      <td>use</td>\n",
              "      <td>1</td>\n",
              "    </tr>\n",
              "    <tr>\n",
              "      <th>11</th>\n",
              "      <td>cause</td>\n",
              "      <td>1</td>\n",
              "    </tr>\n",
              "    <tr>\n",
              "      <th>12</th>\n",
              "      <td>wheelchair</td>\n",
              "      <td>1</td>\n",
              "    </tr>\n",
              "  </tbody>\n",
              "</table>\n",
              "</div>"
            ],
            "text/plain": [
              "          words  tf\n",
              "0          lyft   1\n",
              "1         offer   1\n",
              "2          cant   1\n",
              "3           pdx   1\n",
              "4        thanks   1\n",
              "5          dont   1\n",
              "6        credit   1\n",
              "7           van   1\n",
              "8    getthanked   1\n",
              "9   disapointed   1\n",
              "10          use   1\n",
              "11        cause   1\n",
              "12   wheelchair   1"
            ]
          },
          "metadata": {
            "tags": []
          },
          "execution_count": 30
        }
      ]
    },
    {
      "cell_type": "markdown",
      "metadata": {
        "id": "FEdp_IwJ1SC1",
        "colab_type": "text"
      },
      "source": [
        "## Inverse Document Frequency\n",
        "The intuition behind inverse document frequency (IDF) is that a word is not of much use to us if it’s appearing in all the documents.\n",
        "\n",
        "Therefore, the IDF of each word is the log of the ratio of the total number of rows to the number of rows in which that word is present.\n",
        "\n",
        "IDF = log(N/n), where, N is the total number of rows and n is the number of rows in which the word was present.\n",
        "\n",
        "So, let’s calculate IDF for the same tweets for which we calculated the term frequency."
      ]
    },
    {
      "cell_type": "code",
      "metadata": {
        "id": "d4abz6Dc1SC3",
        "colab_type": "code",
        "outputId": "f6c63dc8-101e-4da3-e238-2230765b5169",
        "colab": {
          "base_uri": "https://localhost:8080/",
          "height": 452
        }
      },
      "source": [
        "for i,word in enumerate(tf1['words']):\n",
        "    tf1.loc[i, 'idf'] = np.log(train.shape[0]/(len(train[train['tweet'].str.contains(word)])))\n",
        "\n",
        "tf1"
      ],
      "execution_count": 0,
      "outputs": [
        {
          "output_type": "execute_result",
          "data": {
            "text/html": [
              "<div>\n",
              "<style scoped>\n",
              "    .dataframe tbody tr th:only-of-type {\n",
              "        vertical-align: middle;\n",
              "    }\n",
              "\n",
              "    .dataframe tbody tr th {\n",
              "        vertical-align: top;\n",
              "    }\n",
              "\n",
              "    .dataframe thead th {\n",
              "        text-align: right;\n",
              "    }\n",
              "</style>\n",
              "<table border=\"1\" class=\"dataframe\">\n",
              "  <thead>\n",
              "    <tr style=\"text-align: right;\">\n",
              "      <th></th>\n",
              "      <th>words</th>\n",
              "      <th>tf</th>\n",
              "      <th>idf</th>\n",
              "    </tr>\n",
              "  </thead>\n",
              "  <tbody>\n",
              "    <tr>\n",
              "      <th>0</th>\n",
              "      <td>lyft</td>\n",
              "      <td>1</td>\n",
              "      <td>8.762865</td>\n",
              "    </tr>\n",
              "    <tr>\n",
              "      <th>1</th>\n",
              "      <td>offer</td>\n",
              "      <td>1</td>\n",
              "      <td>6.522155</td>\n",
              "    </tr>\n",
              "    <tr>\n",
              "      <th>2</th>\n",
              "      <td>cant</td>\n",
              "      <td>1</td>\n",
              "      <td>3.538194</td>\n",
              "    </tr>\n",
              "    <tr>\n",
              "      <th>3</th>\n",
              "      <td>pdx</td>\n",
              "      <td>1</td>\n",
              "      <td>8.762865</td>\n",
              "    </tr>\n",
              "    <tr>\n",
              "      <th>4</th>\n",
              "      <td>thanks</td>\n",
              "      <td>1</td>\n",
              "      <td>4.597751</td>\n",
              "    </tr>\n",
              "    <tr>\n",
              "      <th>5</th>\n",
              "      <td>dont</td>\n",
              "      <td>1</td>\n",
              "      <td>3.745585</td>\n",
              "    </tr>\n",
              "    <tr>\n",
              "      <th>6</th>\n",
              "      <td>credit</td>\n",
              "      <td>1</td>\n",
              "      <td>7.327781</td>\n",
              "    </tr>\n",
              "    <tr>\n",
              "      <th>7</th>\n",
              "      <td>van</td>\n",
              "      <td>1</td>\n",
              "      <td>5.236505</td>\n",
              "    </tr>\n",
              "    <tr>\n",
              "      <th>8</th>\n",
              "      <td>getthanked</td>\n",
              "      <td>1</td>\n",
              "      <td>9.679156</td>\n",
              "    </tr>\n",
              "    <tr>\n",
              "      <th>9</th>\n",
              "      <td>disapointed</td>\n",
              "      <td>1</td>\n",
              "      <td>10.372303</td>\n",
              "    </tr>\n",
              "    <tr>\n",
              "      <th>10</th>\n",
              "      <td>use</td>\n",
              "      <td>1</td>\n",
              "      <td>3.552287</td>\n",
              "    </tr>\n",
              "    <tr>\n",
              "      <th>11</th>\n",
              "      <td>cause</td>\n",
              "      <td>1</td>\n",
              "      <td>5.690172</td>\n",
              "    </tr>\n",
              "    <tr>\n",
              "      <th>12</th>\n",
              "      <td>wheelchair</td>\n",
              "      <td>1</td>\n",
              "      <td>9.273691</td>\n",
              "    </tr>\n",
              "  </tbody>\n",
              "</table>\n",
              "</div>"
            ],
            "text/plain": [
              "          words  tf        idf\n",
              "0          lyft   1   8.762865\n",
              "1         offer   1   6.522155\n",
              "2          cant   1   3.538194\n",
              "3           pdx   1   8.762865\n",
              "4        thanks   1   4.597751\n",
              "5          dont   1   3.745585\n",
              "6        credit   1   7.327781\n",
              "7           van   1   5.236505\n",
              "8    getthanked   1   9.679156\n",
              "9   disapointed   1  10.372303\n",
              "10          use   1   3.552287\n",
              "11        cause   1   5.690172\n",
              "12   wheelchair   1   9.273691"
            ]
          },
          "metadata": {
            "tags": []
          },
          "execution_count": 31
        }
      ]
    },
    {
      "cell_type": "markdown",
      "metadata": {
        "id": "3i99Xjtz1SC5",
        "colab_type": "text"
      },
      "source": [
        "## Term Frequency – Inverse Document Frequency (TF-IDF)\n",
        "TF-IDF is the multiplication of the TF and IDF which we calculated above."
      ]
    },
    {
      "cell_type": "code",
      "metadata": {
        "id": "azxtJxui1SC5",
        "colab_type": "code",
        "outputId": "748cbfea-6e59-478b-f1ba-8f9db4adc0b6",
        "colab": {
          "base_uri": "https://localhost:8080/",
          "height": 452
        }
      },
      "source": [
        "tf1['tfidf'] = tf1['tf'] * tf1['idf']\n",
        "tf1\n"
      ],
      "execution_count": 0,
      "outputs": [
        {
          "output_type": "execute_result",
          "data": {
            "text/html": [
              "<div>\n",
              "<style scoped>\n",
              "    .dataframe tbody tr th:only-of-type {\n",
              "        vertical-align: middle;\n",
              "    }\n",
              "\n",
              "    .dataframe tbody tr th {\n",
              "        vertical-align: top;\n",
              "    }\n",
              "\n",
              "    .dataframe thead th {\n",
              "        text-align: right;\n",
              "    }\n",
              "</style>\n",
              "<table border=\"1\" class=\"dataframe\">\n",
              "  <thead>\n",
              "    <tr style=\"text-align: right;\">\n",
              "      <th></th>\n",
              "      <th>words</th>\n",
              "      <th>tf</th>\n",
              "      <th>idf</th>\n",
              "      <th>tfidf</th>\n",
              "    </tr>\n",
              "  </thead>\n",
              "  <tbody>\n",
              "    <tr>\n",
              "      <th>0</th>\n",
              "      <td>lyft</td>\n",
              "      <td>1</td>\n",
              "      <td>8.762865</td>\n",
              "      <td>8.762865</td>\n",
              "    </tr>\n",
              "    <tr>\n",
              "      <th>1</th>\n",
              "      <td>offer</td>\n",
              "      <td>1</td>\n",
              "      <td>6.522155</td>\n",
              "      <td>6.522155</td>\n",
              "    </tr>\n",
              "    <tr>\n",
              "      <th>2</th>\n",
              "      <td>cant</td>\n",
              "      <td>1</td>\n",
              "      <td>3.538194</td>\n",
              "      <td>3.538194</td>\n",
              "    </tr>\n",
              "    <tr>\n",
              "      <th>3</th>\n",
              "      <td>pdx</td>\n",
              "      <td>1</td>\n",
              "      <td>8.762865</td>\n",
              "      <td>8.762865</td>\n",
              "    </tr>\n",
              "    <tr>\n",
              "      <th>4</th>\n",
              "      <td>thanks</td>\n",
              "      <td>1</td>\n",
              "      <td>4.597751</td>\n",
              "      <td>4.597751</td>\n",
              "    </tr>\n",
              "    <tr>\n",
              "      <th>5</th>\n",
              "      <td>dont</td>\n",
              "      <td>1</td>\n",
              "      <td>3.745585</td>\n",
              "      <td>3.745585</td>\n",
              "    </tr>\n",
              "    <tr>\n",
              "      <th>6</th>\n",
              "      <td>credit</td>\n",
              "      <td>1</td>\n",
              "      <td>7.327781</td>\n",
              "      <td>7.327781</td>\n",
              "    </tr>\n",
              "    <tr>\n",
              "      <th>7</th>\n",
              "      <td>van</td>\n",
              "      <td>1</td>\n",
              "      <td>5.236505</td>\n",
              "      <td>5.236505</td>\n",
              "    </tr>\n",
              "    <tr>\n",
              "      <th>8</th>\n",
              "      <td>getthanked</td>\n",
              "      <td>1</td>\n",
              "      <td>9.679156</td>\n",
              "      <td>9.679156</td>\n",
              "    </tr>\n",
              "    <tr>\n",
              "      <th>9</th>\n",
              "      <td>disapointed</td>\n",
              "      <td>1</td>\n",
              "      <td>10.372303</td>\n",
              "      <td>10.372303</td>\n",
              "    </tr>\n",
              "    <tr>\n",
              "      <th>10</th>\n",
              "      <td>use</td>\n",
              "      <td>1</td>\n",
              "      <td>3.552287</td>\n",
              "      <td>3.552287</td>\n",
              "    </tr>\n",
              "    <tr>\n",
              "      <th>11</th>\n",
              "      <td>cause</td>\n",
              "      <td>1</td>\n",
              "      <td>5.690172</td>\n",
              "      <td>5.690172</td>\n",
              "    </tr>\n",
              "    <tr>\n",
              "      <th>12</th>\n",
              "      <td>wheelchair</td>\n",
              "      <td>1</td>\n",
              "      <td>9.273691</td>\n",
              "      <td>9.273691</td>\n",
              "    </tr>\n",
              "  </tbody>\n",
              "</table>\n",
              "</div>"
            ],
            "text/plain": [
              "          words  tf        idf      tfidf\n",
              "0          lyft   1   8.762865   8.762865\n",
              "1         offer   1   6.522155   6.522155\n",
              "2          cant   1   3.538194   3.538194\n",
              "3           pdx   1   8.762865   8.762865\n",
              "4        thanks   1   4.597751   4.597751\n",
              "5          dont   1   3.745585   3.745585\n",
              "6        credit   1   7.327781   7.327781\n",
              "7           van   1   5.236505   5.236505\n",
              "8    getthanked   1   9.679156   9.679156\n",
              "9   disapointed   1  10.372303  10.372303\n",
              "10          use   1   3.552287   3.552287\n",
              "11        cause   1   5.690172   5.690172\n",
              "12   wheelchair   1   9.273691   9.273691"
            ]
          },
          "metadata": {
            "tags": []
          },
          "execution_count": 32
        }
      ]
    },
    {
      "cell_type": "markdown",
      "metadata": {
        "id": "iz0jNUES1SC7",
        "colab_type": "text"
      },
      "source": [
        "We can see that the TF-IDF has penalized words like ‘don’t’, ‘can’t’, and ‘use’ because they are commonly occurring words. However, it has given a high weight to “disappointed” since that will be very useful in determining the sentiment of the tweet.\n",
        "\n",
        "We don’t have to calculate TF and IDF every time beforehand and then multiply it to obtain TF-IDF. Instead, sklearn has a separate function to directly obtain it:"
      ]
    },
    {
      "cell_type": "code",
      "metadata": {
        "id": "w6AnpioZ1SC8",
        "colab_type": "code",
        "outputId": "20c87568-4c9f-46b1-eebd-88a90080cc4a",
        "colab": {
          "base_uri": "https://localhost:8080/",
          "height": 51
        }
      },
      "source": [
        "from sklearn.feature_extraction.text import TfidfVectorizer\n",
        "tfidf = TfidfVectorizer(max_features=1000, lowercase=True, analyzer='word',\n",
        " stop_words= 'english',ngram_range=(1,1))\n",
        "train_vect = tfidf.fit_transform(train['tweet'])\n",
        "\n",
        "train_vect"
      ],
      "execution_count": 0,
      "outputs": [
        {
          "output_type": "execute_result",
          "data": {
            "text/plain": [
              "<31962x1000 sparse matrix of type '<class 'numpy.float64'>'\n",
              "\twith 114032 stored elements in Compressed Sparse Row format>"
            ]
          },
          "metadata": {
            "tags": []
          },
          "execution_count": 33
        }
      ]
    },
    {
      "cell_type": "code",
      "metadata": {
        "id": "M0c5dKPgPYAf",
        "colab_type": "code",
        "outputId": "6a06c1a2-c5d0-471f-b1cb-8faaade67222",
        "colab": {
          "base_uri": "https://localhost:8080/",
          "height": 148
        }
      },
      "source": [
        "train_vect.toarray()"
      ],
      "execution_count": 0,
      "outputs": [
        {
          "output_type": "execute_result",
          "data": {
            "text/plain": [
              "array([[0., 0., 0., ..., 0., 0., 0.],\n",
              "       [0., 0., 0., ..., 0., 0., 0.],\n",
              "       [0., 0., 0., ..., 0., 0., 0.],\n",
              "       ...,\n",
              "       [0., 0., 0., ..., 0., 0., 0.],\n",
              "       [0., 0., 0., ..., 0., 0., 0.],\n",
              "       [0., 0., 0., ..., 0., 0., 0.]])"
            ]
          },
          "metadata": {
            "tags": []
          },
          "execution_count": 67
        }
      ]
    },
    {
      "cell_type": "markdown",
      "metadata": {
        "id": "VPOMS47O1SC_",
        "colab_type": "text"
      },
      "source": [
        "We can also perform basic pre-processing steps like lower-casing and removal of stopwords, if we haven’t done them earlier."
      ]
    },
    {
      "cell_type": "markdown",
      "metadata": {
        "id": "r3Binayy1SC_",
        "colab_type": "text"
      },
      "source": [
        "## Bag of Words\n",
        "Bag of Words (BoW) refers to the representation of text which describes the presence of words within the text data. The intuition behind this is that two similar text fields will contain similar kind of words, and will therefore have a similar bag of words. Further, that from the text alone we can learn something about the meaning of the document.\n",
        "\n",
        "For implementation, sklearn provides a separate function for it as shown below:"
      ]
    },
    {
      "cell_type": "code",
      "metadata": {
        "id": "MFPSnF4S1SDA",
        "colab_type": "code",
        "outputId": "4ad97944-6d7d-49e0-d4ef-ad0a86578146",
        "colab": {
          "base_uri": "https://localhost:8080/",
          "height": 54
        }
      },
      "source": [
        "from sklearn.feature_extraction.text import CountVectorizer\n",
        "bow = CountVectorizer(max_features=1000, lowercase=True, ngram_range=(1,1),analyzer = \"word\")\n",
        "train_bow = bow.fit_transform(train['tweet'])\n",
        "train_bow"
      ],
      "execution_count": 0,
      "outputs": [
        {
          "output_type": "execute_result",
          "data": {
            "text/plain": [
              "<31962x1000 sparse matrix of type '<class 'numpy.int64'>'\n",
              "\twith 137915 stored elements in Compressed Sparse Row format>"
            ]
          },
          "metadata": {
            "tags": []
          },
          "execution_count": 68
        }
      ]
    },
    {
      "cell_type": "markdown",
      "metadata": {
        "id": "0DpznMC81SDC",
        "colab_type": "text"
      },
      "source": [
        "## Sentiment Analysis\n",
        "If you recall, our problem was to detect the sentiment of the tweet. So, before applying any ML/DL models (which can have a separate feature detecting the sentiment using the textblob library), let’s check the sentiment of the first few tweets.\n",
        "_"
      ]
    },
    {
      "cell_type": "code",
      "metadata": {
        "id": "dlO3q4-S1SDD",
        "colab_type": "code",
        "outputId": "10752686-6e4d-437b-c989-a34008222433",
        "colab": {
          "base_uri": "https://localhost:8080/",
          "height": 136
        }
      },
      "source": [
        "train['tweet'][:5].apply(lambda x: TextBlob(x).sentiment)"
      ],
      "execution_count": 0,
      "outputs": [
        {
          "output_type": "execute_result",
          "data": {
            "text/plain": [
              "id\n",
              "1    (-0.3, 0.5354166666666667)\n",
              "2                    (0.2, 0.2)\n",
              "3                    (0.0, 0.0)\n",
              "4                    (0.0, 0.0)\n",
              "5                    (0.0, 0.0)\n",
              "Name: tweet, dtype: object"
            ]
          },
          "metadata": {
            "tags": []
          },
          "execution_count": 35
        }
      ]
    },
    {
      "cell_type": "markdown",
      "metadata": {
        "id": "Mhb36Ojf1SDF",
        "colab_type": "text"
      },
      "source": [
        "Above, you can see that it returns a tuple representing polarity and subjectivity of each tweet. Here, we only extract polarity as it indicates the sentiment as value nearer to 1 means a positive sentiment and values nearer to -1 means a negative sentiment. This can also work as a feature for building a machine learning model."
      ]
    },
    {
      "cell_type": "code",
      "metadata": {
        "id": "cOyWWIUL1SDF",
        "colab_type": "code",
        "outputId": "7b6e5503-45bd-4175-fba5-b2620ecde65f",
        "colab": {
          "base_uri": "https://localhost:8080/",
          "height": 235
        }
      },
      "source": [
        "train['sentiment'] = train['tweet'].apply(lambda x: TextBlob(x).sentiment[0] )\n",
        "train[['tweet','sentiment']].head()"
      ],
      "execution_count": 0,
      "outputs": [
        {
          "output_type": "execute_result",
          "data": {
            "text/html": [
              "<div>\n",
              "<style scoped>\n",
              "    .dataframe tbody tr th:only-of-type {\n",
              "        vertical-align: middle;\n",
              "    }\n",
              "\n",
              "    .dataframe tbody tr th {\n",
              "        vertical-align: top;\n",
              "    }\n",
              "\n",
              "    .dataframe thead th {\n",
              "        text-align: right;\n",
              "    }\n",
              "</style>\n",
              "<table border=\"1\" class=\"dataframe\">\n",
              "  <thead>\n",
              "    <tr style=\"text-align: right;\">\n",
              "      <th></th>\n",
              "      <th>tweet</th>\n",
              "      <th>sentiment</th>\n",
              "    </tr>\n",
              "    <tr>\n",
              "      <th>id</th>\n",
              "      <th></th>\n",
              "      <th></th>\n",
              "    </tr>\n",
              "  </thead>\n",
              "  <tbody>\n",
              "    <tr>\n",
              "      <th>1</th>\n",
              "      <td>father dysfunctional selfish drag kid dysfunct...</td>\n",
              "      <td>-0.3</td>\n",
              "    </tr>\n",
              "    <tr>\n",
              "      <th>2</th>\n",
              "      <td>thanks lyft credit cant use cause dont offer w...</td>\n",
              "      <td>0.2</td>\n",
              "    </tr>\n",
              "    <tr>\n",
              "      <th>3</th>\n",
              "      <td>bihday majesty</td>\n",
              "      <td>0.0</td>\n",
              "    </tr>\n",
              "    <tr>\n",
              "      <th>4</th>\n",
              "      <td>model take urð ðððð ððð</td>\n",
              "      <td>0.0</td>\n",
              "    </tr>\n",
              "    <tr>\n",
              "      <th>5</th>\n",
              "      <td>factsguide society motivation</td>\n",
              "      <td>0.0</td>\n",
              "    </tr>\n",
              "  </tbody>\n",
              "</table>\n",
              "</div>"
            ],
            "text/plain": [
              "                                                tweet  sentiment\n",
              "id                                                              \n",
              "1   father dysfunctional selfish drag kid dysfunct...       -0.3\n",
              "2   thanks lyft credit cant use cause dont offer w...        0.2\n",
              "3                                      bihday majesty        0.0\n",
              "4                             model take urð ðððð ððð        0.0\n",
              "5                       factsguide society motivation        0.0"
            ]
          },
          "metadata": {
            "tags": []
          },
          "execution_count": 36
        }
      ]
    },
    {
      "cell_type": "markdown",
      "metadata": {
        "id": "6lJGGr_c1SDI",
        "colab_type": "text"
      },
      "source": [
        "## Word Embeddings\n",
        "Word Embedding is the representation of text in the form of vectors. The underlying idea here is that similar words will have a minimum distance between their vectors.\n",
        "\n",
        "Word2Vec models require a lot of text, so either we can train it on our training data or we can use the pre-trained word vectors developed by Google, Wiki, etc.\n",
        "\n",
        "Here, we will use pre-trained word vectors which can be downloaded from the glove website. There are different dimensions (50,100, 200, 300) vectors trained on wiki data. For this example, I have downloaded the 100-dimensional version of the model.\n",
        "\n",
        "You can refer an article here to understand different form of word embeddings.\n",
        "\n",
        "The first step here is to convert it into the word2vec format."
      ]
    },
    {
      "cell_type": "markdown",
      "metadata": {
        "id": "ldZU7wQ01SDL",
        "colab_type": "text"
      },
      "source": [
        "Now, we can load the above word2vec file as a model."
      ]
    },
    {
      "cell_type": "code",
      "metadata": {
        "id": "epSKWWel1SDM",
        "colab_type": "code",
        "outputId": "a4fb9876-4af3-493a-998f-cb823104e44b",
        "colab": {
          "base_uri": "https://localhost:8080/",
          "height": 74
        }
      },
      "source": [
        "from gensim.models import KeyedVectors # load the Stanford GloVe model\n",
        "filename = '/content/drive/My Drive/Shaastra Workshop Material/Text Analysis/GoogleNews-vectors-negative300.bin.gz'\n",
        "model = KeyedVectors.load_word2vec_format(filename, binary=True)"
      ],
      "execution_count": 0,
      "outputs": [
        {
          "output_type": "stream",
          "text": [
            "/usr/local/lib/python3.6/dist-packages/smart_open/smart_open_lib.py:402: UserWarning: This function is deprecated, use smart_open.open instead. See the migration notes for details: https://github.com/RaRe-Technologies/smart_open/blob/master/README.rst#migrating-to-the-new-open-function\n",
            "  'See the migration notes for details: %s' % _MIGRATION_NOTES_URL\n"
          ],
          "name": "stderr"
        }
      ]
    },
    {
      "cell_type": "markdown",
      "metadata": {
        "id": "ZrMxjis01SDP",
        "colab_type": "text"
      },
      "source": [
        "Let’s say our tweet contains a text saying ‘go away’. We can easily obtain it’s word vector using the above model:"
      ]
    },
    {
      "cell_type": "code",
      "metadata": {
        "id": "uKYVR4lW1SDP",
        "colab_type": "code",
        "outputId": "4d93ac39-36e9-4448-8d2f-576e1726d0a4",
        "colab": {
          "base_uri": "https://localhost:8080/",
          "height": 1000
        }
      },
      "source": [
        "model['go']"
      ],
      "execution_count": 0,
      "outputs": [
        {
          "output_type": "execute_result",
          "data": {
            "text/plain": [
              "array([-2.63671875e-02,  6.83593750e-02, -3.11279297e-02,  2.19726562e-01,\n",
              "        3.41796875e-03, -9.03320312e-03,  1.07910156e-01, -1.74804688e-01,\n",
              "        7.71484375e-02,  3.83377075e-04, -1.02539062e-01, -1.73339844e-02,\n",
              "       -3.08837891e-02,  5.76171875e-02, -1.09863281e-01,  6.10351562e-02,\n",
              "        2.48046875e-01,  5.46264648e-03,  3.49121094e-02,  7.65991211e-03,\n",
              "       -1.07910156e-01,  2.16796875e-01,  1.26953125e-01,  1.46484375e-01,\n",
              "        1.55273438e-01,  4.46777344e-02,  7.51953125e-02, -1.45507812e-01,\n",
              "       -7.71484375e-02, -8.54492188e-02, -1.15966797e-02,  7.95898438e-02,\n",
              "       -1.94335938e-01, -2.57812500e-01, -9.86328125e-02, -1.38671875e-01,\n",
              "       -4.13894653e-04, -9.03320312e-02,  7.66601562e-02,  1.33789062e-01,\n",
              "        5.17578125e-02, -4.80957031e-02,  1.88476562e-01, -3.44238281e-02,\n",
              "       -7.95898438e-02,  3.54003906e-02, -1.02539062e-01, -1.33789062e-01,\n",
              "       -1.06445312e-01,  7.42187500e-02, -2.46582031e-02,  1.99218750e-01,\n",
              "        1.54296875e-01, -1.22558594e-01,  4.71191406e-02, -3.00781250e-01,\n",
              "       -7.37304688e-02, -6.44531250e-02,  9.08203125e-02,  6.68945312e-02,\n",
              "       -3.68652344e-02, -1.48437500e-01, -1.24511719e-02,  7.12890625e-02,\n",
              "       -6.34765625e-02, -2.05078125e-01, -2.39257812e-01,  9.17968750e-02,\n",
              "       -3.56445312e-02,  6.54296875e-02,  7.47070312e-02,  1.34765625e-01,\n",
              "        1.41601562e-01, -4.54101562e-02, -1.91406250e-01, -2.61718750e-01,\n",
              "        2.01416016e-02,  1.17187500e-01,  3.51562500e-02,  8.00781250e-02,\n",
              "       -1.98364258e-03, -9.17968750e-02,  1.27929688e-01,  2.95410156e-02,\n",
              "        9.66796875e-02,  8.88671875e-02,  5.66406250e-02,  6.54296875e-02,\n",
              "       -2.92968750e-02,  2.19726562e-02,  1.22558594e-01,  3.10546875e-01,\n",
              "        1.36108398e-02, -1.68945312e-01, -3.97949219e-02, -9.66796875e-02,\n",
              "        1.96289062e-01,  2.63671875e-01, -2.13623047e-02,  2.67028809e-03,\n",
              "       -1.45507812e-01,  7.42187500e-02,  2.14843750e-02,  5.85937500e-02,\n",
              "       -5.02929688e-02, -1.98242188e-01,  5.29785156e-02, -1.74804688e-01,\n",
              "        1.02050781e-01, -1.23901367e-02,  1.27929688e-01, -1.02539062e-01,\n",
              "       -1.25000000e-01, -1.79687500e-01, -3.10058594e-02,  4.00390625e-02,\n",
              "        7.86132812e-02, -1.93359375e-01,  1.42578125e-01,  3.39355469e-02,\n",
              "        9.82666016e-03,  4.68750000e-02, -2.91442871e-03,  2.75390625e-01,\n",
              "       -7.50732422e-03,  1.63085938e-01, -4.88281250e-02, -7.47070312e-02,\n",
              "       -1.27929688e-01, -5.20019531e-02, -1.53320312e-01, -1.42578125e-01,\n",
              "        1.40625000e-01,  1.86523438e-01,  2.52685547e-02, -1.07910156e-01,\n",
              "        9.37500000e-02,  2.10937500e-01,  1.16699219e-01,  1.02050781e-01,\n",
              "        1.16699219e-01, -7.91015625e-02,  4.34570312e-02,  1.17187500e-01,\n",
              "        1.24511719e-01,  9.81445312e-02, -2.47070312e-01, -2.35351562e-01,\n",
              "       -1.03027344e-01, -1.12304688e-01, -6.98242188e-02,  1.26953125e-01,\n",
              "       -2.42919922e-02,  5.51757812e-02, -1.09375000e-01, -1.03027344e-01,\n",
              "        9.52148438e-02, -1.95312500e-01, -1.52343750e-01,  1.48437500e-01,\n",
              "        8.83789062e-02,  4.83398438e-02,  1.37329102e-02, -6.12792969e-02,\n",
              "        5.00488281e-02, -3.10546875e-01,  9.32617188e-02,  1.21459961e-02,\n",
              "        9.57031250e-02, -1.62109375e-01, -2.33398438e-01, -2.61718750e-01,\n",
              "       -5.12695312e-02, -7.42187500e-02, -4.90722656e-02,  1.06445312e-01,\n",
              "        1.13281250e-01, -2.97851562e-02,  5.46875000e-02,  1.60156250e-01,\n",
              "       -2.12890625e-01, -1.42578125e-01, -1.66015625e-02,  1.54296875e-01,\n",
              "        1.41601562e-02, -9.91210938e-02,  8.44726562e-02,  8.74023438e-02,\n",
              "        2.00195312e-01, -5.07812500e-02,  2.07031250e-01,  1.27929688e-01,\n",
              "        1.75781250e-01,  1.78710938e-01, -1.58691406e-02,  4.05883789e-03,\n",
              "       -5.40161133e-03, -8.48388672e-03, -1.23596191e-03, -1.42578125e-01,\n",
              "       -9.81445312e-02,  3.90625000e-02,  1.22680664e-02,  6.33239746e-04,\n",
              "        5.27343750e-02,  9.37500000e-02, -3.22265625e-02, -2.89062500e-01,\n",
              "        1.27929688e-01, -5.98144531e-03,  7.61718750e-02,  7.17773438e-02,\n",
              "        8.34960938e-02,  2.07519531e-02, -1.96289062e-01,  6.78710938e-02,\n",
              "        2.08007812e-01, -1.08642578e-02, -4.44335938e-02, -2.77343750e-01,\n",
              "       -1.17675781e-01, -1.33789062e-01,  8.15429688e-02,  1.25122070e-02,\n",
              "        1.81640625e-01, -7.51953125e-02,  1.12792969e-01,  7.56835938e-02,\n",
              "        5.05371094e-02, -5.85937500e-02,  5.29785156e-02, -4.37011719e-02,\n",
              "       -5.88378906e-02,  1.54296875e-01,  9.46044922e-03,  1.16210938e-01,\n",
              "       -1.51367188e-01,  1.11083984e-02,  1.41601562e-01, -5.54199219e-02,\n",
              "        1.83593750e-01,  1.17187500e-01, -1.27929688e-01, -7.08007812e-02,\n",
              "        3.72314453e-03, -4.19921875e-02, -9.13085938e-02,  1.09375000e-01,\n",
              "        1.27929688e-01,  2.25830078e-02,  1.93359375e-01,  5.46875000e-02,\n",
              "        2.25830078e-02, -3.22265625e-02,  1.25000000e-01, -5.00488281e-02,\n",
              "       -3.34472656e-02, -6.16455078e-03, -3.27148438e-02, -3.06396484e-02,\n",
              "       -1.31835938e-01, -6.73828125e-02, -1.04980469e-01,  1.26953125e-01,\n",
              "        1.79687500e-01,  7.56835938e-02,  1.08398438e-01,  8.93554688e-02,\n",
              "       -1.72119141e-02,  9.08203125e-02,  6.65283203e-03,  2.30468750e-01,\n",
              "        3.32031250e-02,  1.69921875e-01,  1.49414062e-01, -2.08007812e-01,\n",
              "       -5.98144531e-02, -1.65039062e-01, -9.17968750e-02, -1.46865845e-04,\n",
              "        8.20312500e-02, -1.25000000e-01,  9.88769531e-03,  1.07421875e-01,\n",
              "       -1.04370117e-02, -1.96533203e-02, -2.30712891e-02,  8.88671875e-02,\n",
              "       -1.48925781e-02,  2.18750000e-01,  4.12597656e-02,  2.98828125e-01,\n",
              "       -2.32421875e-01,  1.65039062e-01, -2.23388672e-02, -6.44531250e-02,\n",
              "        1.59179688e-01, -1.70898438e-01,  1.96289062e-01, -9.96093750e-02],\n",
              "      dtype=float32)"
            ]
          },
          "metadata": {
            "tags": []
          },
          "execution_count": 4
        }
      ]
    },
    {
      "cell_type": "code",
      "metadata": {
        "id": "OYVjBdRJ1SDS",
        "colab_type": "code",
        "outputId": "a7420954-da3e-4d3d-a938-f70a3368d9d8",
        "colab": {
          "base_uri": "https://localhost:8080/",
          "height": 1000
        }
      },
      "source": [
        "model['away']\n"
      ],
      "execution_count": 0,
      "outputs": [
        {
          "output_type": "execute_result",
          "data": {
            "text/plain": [
              "array([ 5.88378906e-02, -8.10546875e-02, -7.22656250e-02,  8.78906250e-02,\n",
              "       -8.64257812e-02, -4.46777344e-02,  3.36914062e-02, -2.81250000e-01,\n",
              "       -6.64062500e-02,  2.53906250e-01,  6.25000000e-02, -1.90429688e-01,\n",
              "        3.83300781e-02,  1.91406250e-01, -3.98635864e-04, -4.12597656e-02,\n",
              "        1.29882812e-01,  9.81445312e-02,  2.41699219e-02, -4.54101562e-02,\n",
              "        1.12304688e-01,  8.83789062e-02,  1.08398438e-01, -1.28173828e-02,\n",
              "        3.10546875e-01,  2.56347656e-02,  6.68945312e-02, -1.14257812e-01,\n",
              "        1.51367188e-01, -2.02148438e-01,  2.04101562e-01,  2.08007812e-01,\n",
              "       -1.59179688e-01, -9.66796875e-02, -2.08007812e-01,  7.91015625e-02,\n",
              "       -1.99218750e-01, -9.71679688e-02, -1.33666992e-02,  2.53906250e-01,\n",
              "        1.20605469e-01, -2.33398438e-01,  1.85546875e-01, -4.10156250e-02,\n",
              "       -1.71875000e-01,  3.63769531e-02, -8.00781250e-02,  7.51953125e-02,\n",
              "        4.90722656e-02, -4.49218750e-02, -6.29882812e-02,  9.17968750e-02,\n",
              "       -3.19824219e-02,  2.31933594e-02, -3.82812500e-01, -1.49536133e-02,\n",
              "        1.36718750e-02,  1.94091797e-02,  1.10839844e-01, -1.89453125e-01,\n",
              "        1.08642578e-02, -3.96728516e-03,  1.53320312e-01, -2.77343750e-01,\n",
              "        3.78417969e-02, -1.14746094e-02, -4.32128906e-02,  1.77734375e-01,\n",
              "       -5.98144531e-03,  1.96289062e-01, -3.90625000e-02, -6.49414062e-02,\n",
              "        2.36328125e-01,  2.05078125e-02, -1.70898438e-01,  4.54101562e-02,\n",
              "        3.44238281e-02,  7.66601562e-02,  2.16796875e-01,  6.98242188e-02,\n",
              "        9.81445312e-02,  5.29785156e-02,  1.36718750e-01,  2.67333984e-02,\n",
              "       -2.85339355e-03, -1.16577148e-02,  5.88378906e-02,  1.05957031e-01,\n",
              "        3.90625000e-02,  2.95410156e-02, -1.86523438e-01,  3.73840332e-04,\n",
              "       -1.35742188e-01, -1.66015625e-01, -6.73828125e-02, -9.27734375e-02,\n",
              "        1.66992188e-01,  5.17578125e-02, -1.02539062e-01,  1.37695312e-01,\n",
              "       -1.30859375e-01, -6.43920898e-03,  1.33789062e-01,  1.86523438e-01,\n",
              "       -3.64685059e-03, -1.66992188e-01,  8.44726562e-02, -1.89453125e-01,\n",
              "        1.65039062e-01, -1.23535156e-01, -1.83593750e-01,  2.65625000e-01,\n",
              "        2.36328125e-01, -2.81982422e-02,  1.71875000e-01,  1.91406250e-01,\n",
              "       -1.75781250e-02,  1.30859375e-01,  1.61132812e-02,  2.85156250e-01,\n",
              "       -3.00781250e-01,  6.39648438e-02, -1.24023438e-01,  8.34960938e-02,\n",
              "       -1.30615234e-02, -1.15234375e-01, -1.18164062e-01,  1.00097656e-01,\n",
              "       -6.00585938e-02, -2.40478516e-02, -3.44238281e-02, -8.93554688e-02,\n",
              "        1.75781250e-01, -5.88378906e-02, -1.29882812e-01, -4.00390625e-02,\n",
              "       -4.29687500e-02, -8.20312500e-02,  9.15527344e-03,  2.49023438e-01,\n",
              "       -4.44335938e-02, -1.77734375e-01, -2.24609375e-02, -1.29882812e-01,\n",
              "       -4.56542969e-02, -3.32031250e-02, -3.56445312e-02, -9.37500000e-02,\n",
              "       -2.20703125e-01, -1.53198242e-02,  1.45507812e-01, -1.40625000e-01,\n",
              "       -1.18164062e-01,  5.39550781e-02, -1.70898438e-01,  2.43164062e-01,\n",
              "       -1.85546875e-01, -7.08007812e-02, -1.60980225e-03,  1.81640625e-01,\n",
              "       -6.93359375e-02,  6.49414062e-02,  1.40625000e-01, -1.73828125e-01,\n",
              "       -2.88085938e-02, -1.10473633e-02, -1.16210938e-01, -3.56445312e-02,\n",
              "       -5.95703125e-02, -1.14746094e-01, -2.38281250e-01, -1.22558594e-01,\n",
              "       -1.46484375e-01,  6.03027344e-02, -1.59179688e-01, -1.30859375e-01,\n",
              "        5.49316406e-02,  1.64794922e-03, -6.15234375e-02,  1.12304688e-01,\n",
              "        1.16577148e-02,  6.44531250e-02,  3.82812500e-01,  1.46484375e-01,\n",
              "       -1.40625000e-01,  3.12500000e-02, -3.43322754e-04,  2.87109375e-01,\n",
              "        6.86645508e-03,  9.86328125e-02, -2.73437500e-02,  1.60156250e-01,\n",
              "        1.04492188e-01,  1.30859375e-01, -2.49023438e-01, -6.07910156e-02,\n",
              "       -1.00585938e-01,  1.67968750e-01, -7.81250000e-03,  1.01562500e-01,\n",
              "        1.02539062e-01,  1.41601562e-01, -9.13085938e-02, -1.96533203e-02,\n",
              "        1.66015625e-01,  2.53906250e-01,  1.41601562e-02, -3.10058594e-02,\n",
              "       -5.61523438e-02,  4.12597656e-02, -8.54492188e-02,  1.30859375e-01,\n",
              "       -1.34765625e-01,  1.08398438e-01,  2.37304688e-01,  2.26562500e-01,\n",
              "        3.46679688e-02,  6.37817383e-03, -7.95898438e-02,  1.22070312e-01,\n",
              "       -1.36718750e-01,  8.30078125e-02,  6.07910156e-02, -8.69140625e-02,\n",
              "       -1.28906250e-01, -5.61523438e-02,  1.43554688e-01,  9.17968750e-02,\n",
              "        1.53320312e-01, -1.16210938e-01,  3.61328125e-01, -2.32421875e-01,\n",
              "        5.59082031e-02, -3.03955078e-02,  4.98046875e-02,  1.25000000e-01,\n",
              "       -8.25195312e-02,  8.36181641e-03,  1.44531250e-01,  2.75390625e-01,\n",
              "       -2.06054688e-01,  1.98364258e-03,  4.68750000e-02, -1.57226562e-01,\n",
              "        1.98974609e-02,  1.63085938e-01, -9.52148438e-02,  1.29394531e-02,\n",
              "        1.64062500e-01, -2.17285156e-02,  8.78906250e-02,  2.91748047e-02,\n",
              "        4.17480469e-02, -6.34765625e-02, -3.37890625e-01, -6.89697266e-03,\n",
              "        4.12597656e-02,  5.24902344e-03, -1.70898438e-01,  4.00390625e-02,\n",
              "       -1.44531250e-01, -5.44433594e-02, -2.50000000e-01, -2.46093750e-01,\n",
              "       -2.92968750e-03,  1.16210938e-01, -1.97265625e-01,  4.19921875e-02,\n",
              "       -7.03125000e-02, -9.37500000e-02,  5.54199219e-02, -1.87500000e-01,\n",
              "        8.00781250e-02, -4.27246094e-03, -4.44335938e-02, -3.59375000e-01,\n",
              "       -1.20605469e-01, -2.45117188e-01,  5.81054688e-02, -1.47460938e-01,\n",
              "        5.20019531e-02, -2.08984375e-01, -1.31835938e-01, -8.10546875e-02,\n",
              "       -1.49414062e-01,  2.53906250e-01, -1.74804688e-01,  6.54296875e-02,\n",
              "       -9.57031250e-02, -3.29589844e-02, -6.49414062e-02,  2.23632812e-01,\n",
              "       -2.31445312e-01, -6.73828125e-02, -2.55859375e-01,  1.28906250e-01,\n",
              "        3.27148438e-02,  2.22167969e-02, -7.91015625e-02, -2.67333984e-02],\n",
              "      dtype=float32)"
            ]
          },
          "metadata": {
            "tags": []
          },
          "execution_count": 5
        }
      ]
    },
    {
      "cell_type": "code",
      "metadata": {
        "id": "SujVcODP1SDX",
        "colab_type": "code",
        "colab": {}
      },
      "source": [
        "(model['go'] + model['away'])/2"
      ],
      "execution_count": 0,
      "outputs": []
    },
    {
      "cell_type": "code",
      "metadata": {
        "id": "uJnf1q4gXXkh",
        "colab_type": "code",
        "outputId": "74ef55f4-3706-4505-cb91-d04218516ecc",
        "colab": {
          "base_uri": "https://localhost:8080/",
          "height": 93
        }
      },
      "source": [
        "model.similarity('bed','pillow')"
      ],
      "execution_count": 0,
      "outputs": [
        {
          "output_type": "stream",
          "text": [
            "/usr/local/lib/python3.6/dist-packages/gensim/matutils.py:737: FutureWarning: Conversion of the second argument of issubdtype from `int` to `np.signedinteger` is deprecated. In future, it will be treated as `np.int64 == np.dtype(int).type`.\n",
            "  if np.issubdtype(vec.dtype, np.int):\n"
          ],
          "name": "stderr"
        },
        {
          "output_type": "execute_result",
          "data": {
            "text/plain": [
              "0.5638939"
            ]
          },
          "metadata": {
            "tags": []
          },
          "execution_count": 9
        }
      ]
    },
    {
      "cell_type": "code",
      "metadata": {
        "id": "X2JFpaJpXh2o",
        "colab_type": "code",
        "colab": {}
      },
      "source": [
        ""
      ],
      "execution_count": 0,
      "outputs": []
    }
  ]
}